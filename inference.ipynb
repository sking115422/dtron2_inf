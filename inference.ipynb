{
 "cells": [
  {
   "cell_type": "markdown",
   "metadata": {},
   "source": [
    "# Dtron2 Inference"
   ]
  },
  {
   "cell_type": "markdown",
   "metadata": {},
   "source": [
    "## Imports"
   ]
  },
  {
   "cell_type": "code",
   "execution_count": null,
   "metadata": {},
   "outputs": [],
   "source": [
    "# install dependencies: (use cu101 because colab has CUDA 10.1)\n",
    "# opencv is pre-installed on colab\n",
    "import torch, torchvision\n",
    "print(torch.__version__, torch.cuda.is_available())\n",
    "\n",
    "import gc\n",
    "#del variables\n",
    "gc.collect()\n",
    "# Gong added this:\n",
    "torch.cuda.empty_cache()\n",
    "#torch.cuda.memory_summary(device=None, abbreviated=False)\n",
    "\n",
    "# You may need to restart your runtime prior to this, to let your installation take effect\n",
    "# Some basic setup:\n",
    "# Setup detectron2 logger\n",
    "import detectron2\n",
    "from detectron2.utils.logger import setup_logger\n",
    "setup_logger()\n",
    "\n",
    "# import some common libraries\n",
    "import numpy as np\n",
    "import cv2\n",
    "import random\n",
    "import json\n",
    "import math\n",
    "import os\n",
    "import shutil \n",
    "import json\n",
    "import re\n",
    "\n",
    "# import some common detectron2 utilities\n",
    "from detectron2 import model_zoo\n",
    "from detectron2.engine import DefaultPredictor\n",
    "from detectron2.config import get_cfg\n",
    "from detectron2.utils.visualizer import Visualizer, VisImage\n",
    "from detectron2.data import MetadataCatalog\n",
    "from detectron2.data.catalog import DatasetCatalog\n",
    "from detectron2.data.datasets import register_coco_instances\n",
    "from detectron2.engine import DefaultTrainer\n",
    "from detectron2.evaluation import COCOEvaluator\n",
    "from detectron2.data import DatasetCatalog, MetadataCatalog, build_detection_test_loader\n",
    "from detectron2.evaluation import COCOEvaluator, inference_on_dataset\n",
    "\n",
    "#from .detectron2.tools.train_net import Trainer\n",
    "#from detectron2.engine import DefaultTrainer\n",
    "# select from modelzoo here: https://github.com/facebookresearch/detectron2/blob/master/MODEL_ZOO.md#coco-object-detection-baselines\n",
    "\n",
    "from detectron2.config import get_cfg\n",
    "#from detectron2.evaluation.coco_evaluation import COCOEvaluator\n",
    "import os\n",
    "\n",
    "from detectron2.utils.visualizer import ColorMode\n",
    "import glob\n",
    "\n",
    "import random\n",
    "from detectron2.utils.visualizer import Visualizer\n",
    "import numpy as np \n",
    "import os\n"
   ]
  },
  {
   "cell_type": "markdown",
   "metadata": {},
   "source": [
    "## Functions"
   ]
  },
  {
   "cell_type": "code",
   "execution_count": null,
   "metadata": {},
   "outputs": [],
   "source": [
    "def get_soi(str1, start_char, end_char):\n",
    "    str1 = str(str1)\n",
    "    offst = len(start_char)\n",
    "    ind1 = str1.find(start_char)\n",
    "    ind2 = str1.find(end_char)\n",
    "    s_str = str1[ind1+offst:ind2]\n",
    "    return s_str"
   ]
  },
  {
   "cell_type": "code",
   "execution_count": null,
   "metadata": {},
   "outputs": [],
   "source": [
    "def createDataDict (fn, outputs):\n",
    "\timg_shape = list(outputs[\"instances\"].image_size)\n",
    "\timg_h = int(img_shape[0])\n",
    "\timg_w = int(img_shape[1])\n",
    "\n",
    "\tclass_list = get_soi(outputs[\"instances\"].pred_classes, \"[\", \"]\").split(\",\")\n",
    "\tclass_list_new = []\n",
    "\tfor each in class_list:\n",
    "\t\tclass_list_new.append(int(each.strip()))\n",
    "\n",
    "\tbbox_list = get_soi(outputs[\"instances\"].pred_boxes, \"[[\", \"]]\").split(\"]\")\n",
    "\tbbox_list_new = []\n",
    "\tfor each in bbox_list:\n",
    "\t\tbbox = re.sub(\"['[,\\n]\", \"\", each).split(\" \")\n",
    "\t\tbbox_new = []\n",
    "\t\tfor item in bbox:\n",
    "\t\t\tif item != \"\":\n",
    "\t\t\t\tbbox_new.append(float(item))\n",
    "\t\tbbox_list_new.append(bbox_new)\n",
    "\n",
    "\tann_list = []\n",
    "\tfor i in range(0, len(class_list)):\n",
    "\t\t# og was \"bbox_mode\": \"<BoxMode.XYWH_ABS: 1>\"\n",
    "\t\tann_list.append({\"iscrowd\": 0, \"bbox\": bbox_list_new[i], \"category_id\": class_list_new[i], \"bbox_mode\": 0})\n",
    "\t\n",
    "\tdata_dict = {\n",
    "\t\t\"file_name\": fn,\n",
    "\t\t\"height\": img_h,\n",
    "\t\t\"width\": img_w, \n",
    "\t\t\"annotations\": ann_list\n",
    "\t}\n",
    " \n",
    "\treturn data_dict"
   ]
  },
  {
   "cell_type": "markdown",
   "metadata": {},
   "source": [
    "## Inference with D2 Saved Weights"
   ]
  },
  {
   "cell_type": "code",
   "execution_count": null,
   "metadata": {},
   "outputs": [],
   "source": [
    "### File paths\n",
    "\n",
    "img_out_dir = \"./img_out/\"\n",
    "img_in_dir = \"./inf_imgs/\"\n",
    "results_dir = \"./results\"\n",
    "\n",
    "if not os.path.exists(img_out_dir):\n",
    "    os.makedirs(img_out_dir)\n",
    "    \n",
    "if not os.path.exists(img_in_dir):\n",
    "    os.makedirs(img_in_dir)\n",
    "    \n",
    "if not os.path.exists(results_dir):\n",
    "    os.makedirs(results_dir)\n",
    "    \n",
    "### Starting inference\n",
    "\n",
    "print (\"model inference started...\")\n",
    "\n",
    "cfg = get_cfg()\n",
    "cfg.merge_from_file(model_zoo.get_config_file(\"COCO-Detection/faster_rcnn_X_101_32x8d_FPN_3x.yaml\"))\n",
    "cfg.MODEL.WEIGHTS = os.path.join(\"./model_pth/\", \"model_final.pth\")\n",
    "cfg.MODEL.ROI_HEADS.NUM_CLASSES = 32 + 1 #your number of classes + 1\n",
    "cfg.MODEL.ROI_HEADS.SCORE_THRESH_TEST = 0.10\n",
    "predictor = DefaultPredictor(cfg)\n",
    "\n",
    "img_path_list = os.listdir(img_in_dir)\n",
    "\n",
    "master_dict = []\n",
    "\n",
    "for img_path in img_path_list:\n",
    "\timg = cv2.imread(img_in_dir + img_path)\n",
    "\toutputs = predictor(img)\n",
    "\tif outputs[\"instances\"].__len__() > 0:\n",
    "\t\tprint(outputs)\n",
    "\t\tdata_dict = createDataDict(img_in_dir + img_path, outputs)\n",
    "\t\tvis = Visualizer(img[:, :, ::-1], scale=1)\n",
    "\t\tout = vis.draw_dataset_dict(data_dict)\n",
    "\t\tcv2.imwrite(\"./img_out/\"+img_path, out.get_image()[:, :, ::-1])\n",
    "\t\tmaster_dict.append(data_dict)\n",
    "\t\twith open(\"./results/data_dict.json\", \"w+\") as f:\n",
    "\t\t\tf.write(json.dumps(master_dict))\n",
    "\telse:\n",
    "\t\tprint(\"model inference has detected no elements of interest... so img will be skipped.\")"
   ]
  }
 ],
 "metadata": {
  "kernelspec": {
   "display_name": "dtron_venv",
   "language": "python",
   "name": "python3"
  },
  "language_info": {
   "codemirror_mode": {
    "name": "ipython",
    "version": 3
   },
   "file_extension": ".py",
   "mimetype": "text/x-python",
   "name": "python",
   "nbconvert_exporter": "python",
   "pygments_lexer": "ipython3",
   "version": "3.8.17"
  },
  "orig_nbformat": 4
 },
 "nbformat": 4,
 "nbformat_minor": 2
}
