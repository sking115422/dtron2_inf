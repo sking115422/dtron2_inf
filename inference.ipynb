{
 "cells": [
  {
   "cell_type": "markdown",
   "metadata": {},
   "source": [
    "# Dtron2 Inference"
   ]
  },
  {
   "cell_type": "markdown",
   "metadata": {},
   "source": [
    "## Imports"
   ]
  },
  {
   "cell_type": "code",
   "execution_count": 1,
   "metadata": {},
   "outputs": [
    {
     "name": "stderr",
     "output_type": "stream",
     "text": [
      "/home/spenc/miniconda3/envs/dtron2_venv/lib/python3.8/site-packages/tqdm/auto.py:21: TqdmWarning: IProgress not found. Please update jupyter and ipywidgets. See https://ipywidgets.readthedocs.io/en/stable/user_install.html\n",
      "  from .autonotebook import tqdm as notebook_tqdm\n"
     ]
    },
    {
     "name": "stdout",
     "output_type": "stream",
     "text": [
      "1.10.1+cu111 True\n"
     ]
    }
   ],
   "source": [
    "# install dependencies: (use cu101 because colab has CUDA 10.1)\n",
    "# opencv is pre-installed on colab\n",
    "import torch, torchvision\n",
    "print(torch.__version__, torch.cuda.is_available())\n",
    "\n",
    "import gc\n",
    "#del variables\n",
    "gc.collect()\n",
    "# Gong added this:\n",
    "torch.cuda.empty_cache()\n",
    "#torch.cuda.memory_summary(device=None, abbreviated=False)\n",
    "\n",
    "# You may need to restart your runtime prior to this, to let your installation take effect\n",
    "# Some basic setup:\n",
    "# Setup detectron2 logger\n",
    "import detectron2\n",
    "from detectron2.utils.logger import setup_logger\n",
    "setup_logger()\n",
    "\n",
    "# import some common libraries\n",
    "import numpy as np\n",
    "import cv2\n",
    "import random\n",
    "import json\n",
    "import math\n",
    "import os\n",
    "import shutil \n",
    "import json\n",
    "import re\n",
    "\n",
    "# import some common detectron2 utilities\n",
    "from detectron2 import model_zoo\n",
    "from detectron2.engine import DefaultPredictor\n",
    "from detectron2.config import get_cfg\n",
    "from detectron2.utils.visualizer import Visualizer, VisImage\n",
    "from detectron2.data import MetadataCatalog\n",
    "from detectron2.data.catalog import DatasetCatalog\n",
    "from detectron2.data.datasets import register_coco_instances\n",
    "from detectron2.engine import DefaultTrainer\n",
    "from detectron2.evaluation import COCOEvaluator\n",
    "from detectron2.data import DatasetCatalog, MetadataCatalog, build_detection_test_loader\n",
    "from detectron2.evaluation import COCOEvaluator, inference_on_dataset\n",
    "\n",
    "#from .detectron2.tools.train_net import Trainer\n",
    "#from detectron2.engine import DefaultTrainer\n",
    "# select from modelzoo here: https://github.com/facebookresearch/detectron2/blob/master/MODEL_ZOO.md#coco-object-detection-baselines\n",
    "\n",
    "from detectron2.config import get_cfg\n",
    "#from detectron2.evaluation.coco_evaluation import COCOEvaluator\n",
    "import os\n",
    "\n",
    "from detectron2.utils.visualizer import ColorMode\n",
    "import glob\n",
    "\n",
    "import random\n",
    "from detectron2.utils.visualizer import Visualizer\n",
    "import numpy as np \n",
    "import os\n"
   ]
  },
  {
   "cell_type": "markdown",
   "metadata": {},
   "source": [
    "## Functions"
   ]
  },
  {
   "cell_type": "code",
   "execution_count": 2,
   "metadata": {},
   "outputs": [],
   "source": [
    "def get_soi(str1, start_char, end_char):\n",
    "    str1 = str(str1)\n",
    "    offst = len(start_char)\n",
    "    ind1 = str1.find(start_char)\n",
    "    ind2 = str1.find(end_char)\n",
    "    s_str = str1[ind1+offst:ind2]\n",
    "    return s_str"
   ]
  },
  {
   "cell_type": "code",
   "execution_count": 3,
   "metadata": {},
   "outputs": [],
   "source": [
    "def createDataDict (fn, outputs):\n",
    "\timg_shape = list(outputs[\"instances\"].image_size)\n",
    "\timg_h = int(img_shape[0])\n",
    "\timg_w = int(img_shape[1])\n",
    "\n",
    "\tclass_list = get_soi(outputs[\"instances\"].pred_classes, \"[\", \"]\").split(\",\")\n",
    "\tclass_list_new = []\n",
    "\tfor each in class_list:\n",
    "\t\tclass_list_new.append(int(each.strip()))\n",
    "\n",
    "\tbbox_list = get_soi(outputs[\"instances\"].pred_boxes, \"[[\", \"]]\").split(\"]\")\n",
    "\tbbox_list_new = []\n",
    "\tfor each in bbox_list:\n",
    "\t\tbbox = re.sub(\"['[,\\n]\", \"\", each).split(\" \")\n",
    "\t\tbbox_new = []\n",
    "\t\tfor item in bbox:\n",
    "\t\t\tif item != \"\":\n",
    "\t\t\t\tbbox_new.append(float(item))\n",
    "\t\tbbox_list_new.append(bbox_new)\n",
    "\n",
    "\tann_list = []\n",
    "\tfor i in range(0, len(class_list)):\n",
    "\t\t# og was \"bbox_mode\": \"<BoxMode.XYWH_ABS: 1>\"\n",
    "\t\tann_list.append({\"iscrowd\": 0, \"bbox\": bbox_list_new[i], \"category_id\": class_list_new[i], \"bbox_mode\": 0})\n",
    "\t\n",
    "\tdata_dict = {\n",
    "\t\t\"file_name\": fn,\n",
    "\t\t\"height\": img_h,\n",
    "\t\t\"width\": img_w, \n",
    "\t\t\"annotations\": ann_list\n",
    "\t}\n",
    " \n",
    "\treturn data_dict"
   ]
  },
  {
   "cell_type": "markdown",
   "metadata": {},
   "source": [
    "## Inference with D2 Saved Weights"
   ]
  },
  {
   "cell_type": "code",
   "execution_count": 4,
   "metadata": {},
   "outputs": [
    {
     "name": "stdout",
     "output_type": "stream",
     "text": [
      "model inference started...\n",
      "\u001b[32m[09/03 22:43:04 d2.checkpoint.detection_checkpoint]: \u001b[0m[DetectionCheckpointer] Loading from ./model_pth/model_final.pth ...\n"
     ]
    },
    {
     "name": "stderr",
     "output_type": "stream",
     "text": [
      "/home/spenc/miniconda3/envs/dtron2_venv/lib/python3.8/site-packages/torch/functional.py:445: UserWarning: torch.meshgrid: in an upcoming release, it will be required to pass the indexing argument. (Triggered internally at  ../aten/src/ATen/native/TensorShape.cpp:2157.)\n",
      "  return _VF.meshgrid(tensors, **kwargs)  # type: ignore[attr-defined]\n"
     ]
    },
    {
     "name": "stdout",
     "output_type": "stream",
     "text": [
      "{'instances': Instances(num_instances=16, image_height=1080, image_width=1920, fields=[pred_boxes: Boxes(tensor([[ 682.7680,   77.0000,  758.9775,  108.5063],\n",
      "        [ 611.7362,   77.0773,  666.5400,  107.0134],\n",
      "        [ 525.1709,   79.6921,  591.4139,  105.4467],\n",
      "        [1405.6550,   62.5482, 1506.3121,  117.7863],\n",
      "        [1120.8167,  986.6182, 1296.1089, 1023.8476],\n",
      "        [ 608.5143,   64.3737,  669.5109,  120.8887],\n",
      "        [1307.6422,  989.6331, 1472.8630, 1021.3987],\n",
      "        [1352.9832,    8.4826, 1519.4431,   40.9275],\n",
      "        [ 514.2072,   65.7212,  594.8746,  122.8667],\n",
      "        [ 976.0560,  841.2876, 1190.6113,  881.1710],\n",
      "        [ 925.5764,  985.5916, 1106.5454, 1026.2626],\n",
      "        [1339.0411,   81.3475, 1382.8290,  103.7738],\n",
      "        [ 404.9393,    6.7794,  434.5810,   41.8670],\n",
      "        [ 401.1217,   54.9912,  455.3057,  131.3951],\n",
      "        [1487.7677,  903.3296, 1510.8457,  926.3126],\n",
      "        [1341.7396,   82.5520, 1365.9414,  101.7065]], device='cuda:0')), scores: tensor([0.8442, 0.8186, 0.7772, 0.6782, 0.6361, 0.5916, 0.5564, 0.5474, 0.5464,\n",
      "        0.5359, 0.5199, 0.3794, 0.3304, 0.3290, 0.3113, 0.2693],\n",
      "       device='cuda:0'), pred_classes: tensor([12, 12, 12, 12, 12, 12, 12, 12, 12, 12, 12, 12, 12, 16, 12, 12],\n",
      "       device='cuda:0')])}\n",
      "{'instances': Instances(num_instances=13, image_height=1080, image_width=1920, fields=[pred_boxes: Boxes(tensor([[  66.7844,   12.0231,  146.7663,   43.4644],\n",
      "        [1457.4005,  515.2638, 1582.4460,  547.5074],\n",
      "        [1496.4309,  410.1955, 1582.1024,  446.5488],\n",
      "        [ 340.4927,  516.1750,  479.0588,  546.4698],\n",
      "        [ 886.2751,  459.0736, 1035.0635,  501.4800],\n",
      "        [ 871.3713,  358.1191, 1049.4712,  394.6526],\n",
      "        [ 337.0258,  402.1059,  553.7941,  448.2409],\n",
      "        [ 947.3821,  578.8126,  973.5996,  602.7040],\n",
      "        [ 852.4066,  206.9710, 1064.5367,  270.1434],\n",
      "        [  25.1027,   15.2703,   50.2931,   39.7076],\n",
      "        [ 760.7659,  566.0890, 1164.6715,  612.4492],\n",
      "        [ 890.7639,  661.9093, 1032.7568,  685.9843],\n",
      "        [ 857.2117,  192.3339, 1062.8088,  279.9373]], device='cuda:0')), scores: tensor([0.7495, 0.6782, 0.6072, 0.5784, 0.5535, 0.5426, 0.5178, 0.4838, 0.4589,\n",
      "        0.3422, 0.2998, 0.2934, 0.2552], device='cuda:0'), pred_classes: tensor([12, 12, 12, 12, 12, 12, 12, 12, 16, 12, 12, 12, 12], device='cuda:0')])}\n",
      "{'instances': Instances(num_instances=29, image_height=1080, image_width=1920, fields=[pred_boxes: Boxes(tensor([[ 766.3670,   60.3695,  863.8164,   90.0257],\n",
      "        [ 510.7758,   60.3119,  620.7510,   89.1614],\n",
      "        [ 637.3917,   60.1109,  748.2368,   89.0884],\n",
      "        [ 431.7630,   58.6065,  493.3525,   89.7366],\n",
      "        [ 875.2832,   56.6154, 1065.6278,   93.1823],\n",
      "        [1631.2784,   55.8931, 1730.4513,   84.9678],\n",
      "        [  96.7987,   53.3031,  196.7576,   88.4311],\n",
      "        [ 668.6644,    7.1769,  973.9503,   43.0319],\n",
      "        [1339.5135,  928.6247, 1475.4926,  964.9798],\n",
      "        [1250.2382,   10.4607, 1517.3091,   38.9883],\n",
      "        [1248.9382,  129.0965, 1353.8187,  151.6256],\n",
      "        [1518.8470,  406.5973, 1557.8926,  428.4774],\n",
      "        [1251.3239,  161.6867, 1333.0913,  183.6350],\n",
      "        [1289.0455,  785.5887, 1514.3727,  839.6949],\n",
      "        [1317.4049,  322.2157, 1493.2958,  353.2397],\n",
      "        [ 170.8053,  654.3914,  214.6362,  680.3298],\n",
      "        [ 354.8195,   57.8340,  410.8475,   90.4559],\n",
      "        [ 597.0981,   12.3159,  657.7179,   39.8532],\n",
      "        [1704.0747,  654.2856, 1750.4961,  680.2521],\n",
      "        [1318.6638,  300.7681, 1485.8912,  324.3874],\n",
      "        [1364.9958,  865.7036, 1450.9900,  890.9188],\n",
      "        [ 476.3751,   10.5206,  610.1744,   37.6194],\n",
      "        [ 360.1766,    5.9122,  666.4476,   41.5937],\n",
      "        [ 359.5510,    9.8339,  494.8147,   39.6868],\n",
      "        [1241.0233,    6.3922, 1584.2152,   51.5222],\n",
      "        [  95.6243,  592.8618,  135.5208,  635.4040],\n",
      "        [ 312.9839,   53.0967,  421.6315,   96.7417],\n",
      "        [ 461.7367,   53.3914,  631.8414,   93.3080],\n",
      "        [1342.0541,  931.6711, 1370.4010,  962.0291]], device='cuda:0')), scores: tensor([0.7655, 0.7578, 0.7546, 0.6983, 0.6266, 0.6074, 0.6072, 0.5325, 0.5286,\n",
      "        0.5079, 0.4840, 0.4745, 0.4702, 0.4587, 0.4556, 0.4362, 0.4326, 0.4245,\n",
      "        0.3737, 0.3581, 0.3441, 0.3358, 0.2965, 0.2937, 0.2890, 0.2669, 0.2650,\n",
      "        0.2577, 0.2536], device='cuda:0'), pred_classes: tensor([12, 12, 12, 12, 12, 12, 12, 12, 12, 12, 12, 12, 12, 12, 12, 12, 12, 12,\n",
      "        12, 12, 12, 12, 12, 12, 16, 12, 12, 12, 12], device='cuda:0')])}\n"
     ]
    }
   ],
   "source": [
    "### File paths\n",
    "\n",
    "img_out_dir = \"./img_out/\"\n",
    "img_in_dir = \"./test_inf_imgs/\"\n",
    "results_dir = \"./results\"\n",
    "\n",
    "if not os.path.exists(img_out_dir):\n",
    "    os.makedirs(img_out_dir)\n",
    "    \n",
    "if not os.path.exists(img_in_dir):\n",
    "    os.makedirs(img_in_dir)\n",
    "    \n",
    "if not os.path.exists(results_dir):\n",
    "    os.makedirs(results_dir)\n",
    "    \n",
    "### Starting inference\n",
    "\n",
    "print (\"model inference started...\")\n",
    "\n",
    "cfg = get_cfg()\n",
    "cfg.merge_from_file(model_zoo.get_config_file(\"COCO-Detection/faster_rcnn_X_101_32x8d_FPN_3x.yaml\"))\n",
    "cfg.MODEL.WEIGHTS = os.path.join(\"./model_pth/\", \"model_final.pth\")\n",
    "cfg.MODEL.ROI_HEADS.NUM_CLASSES = 32 + 1 #your number of classes + 1\n",
    "cfg.MODEL.ROI_HEADS.SCORE_THRESH_TEST = 0.25\n",
    "predictor = DefaultPredictor(cfg)\n",
    "\n",
    "img_path_list = os.listdir(img_in_dir)\n",
    "\n",
    "master_dict = []\n",
    "\n",
    "for img_path in img_path_list:\n",
    "\timg = cv2.imread(img_in_dir + img_path)\n",
    "\toutputs = predictor(img)\n",
    "\tprint(outputs)\n",
    "\tdata_dict = createDataDict(img_in_dir + img_path, outputs)\n",
    "\tvis = Visualizer(img[:, :, ::-1], scale=1)\n",
    "\tout = vis.draw_dataset_dict(data_dict)\n",
    "\tcv2.imwrite(\"./img_out/\"+img_path, out.get_image()[:, :, ::-1])\n",
    "\tmaster_dict.append(data_dict)\n",
    "\twith open(\"./results/data_dict.json\", \"w+\") as f:\n",
    "\t\tf.write(json.dumps(master_dict))"
   ]
  }
 ],
 "metadata": {
  "kernelspec": {
   "display_name": "dtron_venv",
   "language": "python",
   "name": "python3"
  },
  "language_info": {
   "codemirror_mode": {
    "name": "ipython",
    "version": 3
   },
   "file_extension": ".py",
   "mimetype": "text/x-python",
   "name": "python",
   "nbconvert_exporter": "python",
   "pygments_lexer": "ipython3",
   "version": "3.8.17"
  },
  "orig_nbformat": 4
 },
 "nbformat": 4,
 "nbformat_minor": 2
}
